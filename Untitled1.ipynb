{
 "cells": [
  {
   "cell_type": "code",
   "execution_count": 3,
   "metadata": {},
   "outputs": [
    {
     "data": {
      "text/plain": [
       "['(0, 0, 0)_NeuralNetClassifier.csv',\n",
       " '(0, 0, 1)_NeuralNetClassifier.csv',\n",
       " '(0, 0, 10)_NeuralNetClassifier.csv',\n",
       " '(0, 0, 11)_NeuralNetClassifier.csv',\n",
       " '(0, 0, 12)_NeuralNetClassifier.csv',\n",
       " '(0, 0, 13)_NeuralNetClassifier.csv',\n",
       " '(0, 0, 14)_NeuralNetClassifier.csv',\n",
       " '(0, 0, 15)_NeuralNetClassifier.csv',\n",
       " '(0, 0, 16)_NeuralNetClassifier.csv',\n",
       " '(0, 0, 17)_NeuralNetClassifier.csv',\n",
       " '(0, 0, 18)_NeuralNetClassifier.csv',\n",
       " '(0, 0, 19)_NeuralNetClassifier.csv',\n",
       " '(0, 0, 2)_NeuralNetClassifier.csv',\n",
       " '(0, 0, 20)_NeuralNetClassifier.csv',\n",
       " '(0, 0, 21)_NeuralNetClassifier.csv',\n",
       " '(0, 0, 22)_NeuralNetClassifier.csv',\n",
       " '(0, 0, 23)_NeuralNetClassifier.csv',\n",
       " '(0, 0, 24)_NeuralNetClassifier.csv',\n",
       " '(0, 0, 25)_NeuralNetClassifier.csv',\n",
       " '(0, 0, 26)_NeuralNetClassifier.csv',\n",
       " '(0, 0, 27)_NeuralNetClassifier.csv',\n",
       " '(0, 0, 28)_NeuralNetClassifier.csv',\n",
       " '(0, 0, 29)_NeuralNetClassifier.csv',\n",
       " '(0, 0, 3)_NeuralNetClassifier.csv',\n",
       " '(0, 0, 30)_NeuralNetClassifier.csv',\n",
       " '(0, 0, 31)_NeuralNetClassifier.csv',\n",
       " '(0, 0, 32)_NeuralNetClassifier.csv',\n",
       " '(0, 0, 33)_NeuralNetClassifier.csv',\n",
       " '(0, 0, 34)_NeuralNetClassifier.csv',\n",
       " '(0, 0, 35)_NeuralNetClassifier.csv',\n",
       " '(0, 0, 36)_NeuralNetClassifier.csv',\n",
       " '(0, 0, 37)_NeuralNetClassifier.csv',\n",
       " '(0, 0, 38)_NeuralNetClassifier.csv',\n",
       " '(0, 0, 39)_NeuralNetClassifier.csv',\n",
       " '(0, 0, 4)_NeuralNetClassifier.csv',\n",
       " '(0, 0, 40)_NeuralNetClassifier.csv',\n",
       " '(0, 0, 41)_NeuralNetClassifier.csv',\n",
       " '(0, 0, 42)_NeuralNetClassifier.csv',\n",
       " '(0, 0, 43)_NeuralNetClassifier.csv',\n",
       " '(0, 0, 44)_NeuralNetClassifier.csv',\n",
       " '(0, 0, 45)_NeuralNetClassifier.csv',\n",
       " '(0, 0, 46)_NeuralNetClassifier.csv',\n",
       " '(0, 0, 47)_NeuralNetClassifier.csv',\n",
       " '(0, 0, 48)_NeuralNetClassifier.csv',\n",
       " '(0, 0, 49)_NeuralNetClassifier.csv',\n",
       " '(0, 0, 5)_NeuralNetClassifier.csv',\n",
       " '(0, 0, 6)_NeuralNetClassifier.csv',\n",
       " '(0, 0, 7)_NeuralNetClassifier.csv',\n",
       " '(0, 0, 8)_NeuralNetClassifier.csv',\n",
       " '(0, 0, 9)_NeuralNetClassifier.csv',\n",
       " '(0, 1, 0)_RandomForestClassifier.csv',\n",
       " '(0, 1, 1)_RandomForestClassifier.csv',\n",
       " '(0, 1, 10)_RandomForestClassifier.csv',\n",
       " '(0, 1, 11)_RandomForestClassifier.csv',\n",
       " '(0, 1, 12)_RandomForestClassifier.csv',\n",
       " '(0, 1, 13)_RandomForestClassifier.csv',\n",
       " '(0, 1, 14)_RandomForestClassifier.csv',\n",
       " '(0, 1, 15)_RandomForestClassifier.csv',\n",
       " '(0, 1, 16)_RandomForestClassifier.csv',\n",
       " '(0, 1, 17)_RandomForestClassifier.csv',\n",
       " '(0, 1, 18)_RandomForestClassifier.csv',\n",
       " '(0, 1, 19)_RandomForestClassifier.csv',\n",
       " '(0, 1, 2)_RandomForestClassifier.csv',\n",
       " '(0, 1, 20)_RandomForestClassifier.csv',\n",
       " '(0, 1, 21)_RandomForestClassifier.csv',\n",
       " '(0, 1, 22)_RandomForestClassifier.csv',\n",
       " '(0, 1, 23)_RandomForestClassifier.csv',\n",
       " '(0, 1, 24)_RandomForestClassifier.csv',\n",
       " '(0, 1, 25)_RandomForestClassifier.csv',\n",
       " '(0, 1, 26)_RandomForestClassifier.csv',\n",
       " '(0, 1, 27)_RandomForestClassifier.csv',\n",
       " '(0, 1, 28)_RandomForestClassifier.csv',\n",
       " '(0, 1, 29)_RandomForestClassifier.csv',\n",
       " '(0, 1, 3)_RandomForestClassifier.csv',\n",
       " '(0, 1, 30)_RandomForestClassifier.csv',\n",
       " '(0, 1, 4)_RandomForestClassifier.csv',\n",
       " '(0, 1, 5)_RandomForestClassifier.csv',\n",
       " '(0, 1, 6)_RandomForestClassifier.csv',\n",
       " '(0, 1, 7)_RandomForestClassifier.csv',\n",
       " '(0, 1, 8)_RandomForestClassifier.csv',\n",
       " '(0, 1, 9)_RandomForestClassifier.csv']"
      ]
     },
     "execution_count": 3,
     "metadata": {},
     "output_type": "execute_result"
    }
   ],
   "source": [
    "from os import listdir\n",
    "#(0,0,10) in \n",
    "listdir(\"outputs_models2/\")"
   ]
  },
  {
   "cell_type": "code",
   "execution_count": null,
   "metadata": {},
   "outputs": [],
   "source": []
  }
 ],
 "metadata": {
  "kernelspec": {
   "display_name": "Python 3",
   "language": "python",
   "name": "python3"
  },
  "language_info": {
   "codemirror_mode": {
    "name": "ipython",
    "version": 3
   },
   "file_extension": ".py",
   "mimetype": "text/x-python",
   "name": "python",
   "nbconvert_exporter": "python",
   "pygments_lexer": "ipython3",
   "version": "3.7.6"
  }
 },
 "nbformat": 4,
 "nbformat_minor": 4
}
