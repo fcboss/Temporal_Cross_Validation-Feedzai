{
 "cells": [
  {
   "cell_type": "markdown",
   "metadata": {},
   "source": [
    "# Finding the Thersholds\n",
    "For each modelconfig in each split, find the threshold in the test set and get the metric in the validation set"
   ]
  },
  {
   "cell_type": "code",
   "execution_count": 1,
   "metadata": {
    "ExecuteTime": {
     "end_time": "2021-02-15T01:32:44.250597Z",
     "start_time": "2021-02-15T01:32:41.658630Z"
    }
   },
   "outputs": [],
   "source": [
    "import pandas as pd\n",
    "import numpy as np\n",
    "import json \n",
    "import os\n",
    "from sklearn.metrics import precision_score, accuracy_score, recall_score\n",
    "import matplotlib.pyplot as plt\n",
    "from IPython.display import display, HTML\n"
   ]
  },
  {
   "cell_type": "code",
   "execution_count": null,
   "metadata": {},
   "outputs": [],
   "source": []
  },
  {
   "cell_type": "code",
   "execution_count": null,
   "metadata": {},
   "outputs": [],
   "source": []
  },
  {
   "cell_type": "code",
   "execution_count": 2,
   "metadata": {
    "ExecuteTime": {
     "end_time": "2021-02-15T01:32:47.619466Z",
     "start_time": "2021-02-15T01:32:47.609466Z"
    }
   },
   "outputs": [
    {
     "data": {
      "text/plain": [
       "['(0, 0, 0)_RandomForestClassifier.csv',\n",
       " '(0, 0, 0)_RandomForestClassifier_date_params.csv',\n",
       " '(0, 0, 1)_RandomForestClassifier.csv',\n",
       " '(0, 0, 1)_RandomForestClassifier_date_params.csv',\n",
       " '(0, 0, 2)_RandomForestClassifier.csv',\n",
       " '(0, 0, 2)_RandomForestClassifier_date_params.csv',\n",
       " '(0, 0, 3)_RandomForestClassifier.csv',\n",
       " '(0, 0, 3)_RandomForestClassifier_date_params.csv',\n",
       " '(0, 0, 4)_RandomForestClassifier.csv',\n",
       " '(0, 0, 4)_RandomForestClassifier_date_params.csv',\n",
       " '(0, 0, 5)_RandomForestClassifier.csv',\n",
       " '(0, 0, 5)_RandomForestClassifier_date_params.csv',\n",
       " '(0, 0, 6)_RandomForestClassifier.csv',\n",
       " '(0, 0, 6)_RandomForestClassifier_date_params.csv',\n",
       " '(0, 0, 7)_RandomForestClassifier.csv',\n",
       " '(0, 0, 7)_RandomForestClassifier_date_params.csv',\n",
       " '(0, 0, 8)_RandomForestClassifier.csv',\n",
       " '(0, 0, 8)_RandomForestClassifier_date_params.csv',\n",
       " '(0, 0, 9)_RandomForestClassifier.csv',\n",
       " '(0, 0, 9)_RandomForestClassifier_date_params.csv']"
      ]
     },
     "execution_count": 2,
     "metadata": {},
     "output_type": "execute_result"
    }
   ],
   "source": [
    "from os import listdir\n",
    "import random\n",
    "dir_list = listdir(\"outputs_models3/\")\n",
    "#random.shuffle(dir_list)\n",
    "dir_list\n",
    "#pd.DataFrame(dir_list).to_csv('dir_list.csv')\n",
    "\n",
    "#dir_list = pd.read_csv('dir_list.csv')['0']\n",
    "#print(dir_list)"
   ]
  },
  {
   "cell_type": "code",
   "execution_count": null,
   "metadata": {},
   "outputs": [],
   "source": [
    "from sklearn.metrics import precision_score, accuracy_score, recall_score\n",
    "from IPython.display import display, HTML\n",
    "\n"
   ]
  },
  {
   "cell_type": "code",
   "execution_count": null,
   "metadata": {},
   "outputs": [],
   "source": [
    "for i in range(10):\n",
    "    if dir_list[i].endswith(\"date_params.csv\"):\n",
    "        print(dir_list[i][:-16]+'.csv')\n",
    "date_test_fold = pd.read_csv(\"outputs_models3/\"+dir_list[i],index_col = 'Unnamed: 0')['0'].Start_Test\n",
    "date_test_fold"
   ]
  },
  {
   "cell_type": "code",
   "execution_count": null,
   "metadata": {
    "jupyter": {
     "outputs_hidden": true
    }
   },
   "outputs": [],
   "source": [
    "results = []\n",
    "print('yo')\n",
    "for i,filepath in enumerate(dir_list): \n",
    "    print(filepath)\n",
    "    #  if i>len(results)-1:\n",
    "    if filepath.endswith(\"date_params.csv\"):\n",
    "        data = pd.read_csv(\"outputs_models3/\"+filepath[:-16]+'.csv')\n",
    "        date_test_fold = pd.read_csv(\"outputs_models3/\"+dir_list[i],index_col = 'Unnamed: 0')['0'].Start_Test\n",
    "\n",
    "        #rint(date_test_fold)\n",
    "        data_threshold = data.query(f'date <= \"{date_test_fold}\"')\n",
    "        y_true_th,y_proba_th= data_threshold.y_true,data_threshold.y_proba\n",
    "        #print(data_threshold)\n",
    "        \n",
    "        \n",
    "        print(filepath)\n",
    "        th,metric = find_threshold(y_true_th,y_proba_th, precision_score, min_metric_2= 0.05)\n",
    "        \n",
    "        #GET PRECISION FROM TEST SET\n",
    "        data_test = data.query(f'date > \"{date_test_fold}\"')\n",
    "        y_true_test,y_proba_test= data_test.y_true,data_test.y_proba\n",
    "        precision_test = precision_score(y_true_test,y_proba_test>th)\n",
    "        print(th)\n",
    "        print(precision_test)\n",
    "        results.append((filepath,th,precision_test))"
   ]
  },
  {
   "cell_type": "code",
   "execution_count": null,
   "metadata": {
    "jupyter": {
     "outputs_hidden": true
    }
   },
   "outputs": [],
   "source": []
  },
  {
   "cell_type": "code",
   "execution_count": null,
   "metadata": {},
   "outputs": [],
   "source": [
    "outputs= pd.DataFrame(np.array(results),columns=['filename','threshold','metric'])\n",
    "\n",
    "outputs"
   ]
  },
  {
   "cell_type": "code",
   "execution_count": null,
   "metadata": {},
   "outputs": [],
   "source": []
  },
  {
   "cell_type": "code",
   "execution_count": null,
   "metadata": {},
   "outputs": [],
   "source": []
  },
  {
   "cell_type": "code",
   "execution_count": null,
   "metadata": {},
   "outputs": [],
   "source": [
    "outputs_ = outputs#.drop(['y','z','time','param_config','model'],axis=1)\n",
    "outputs_[['time','w','param_config','model','k']]= outputs_.filename.str.replace('(', '').str.replace(')', '').str.replace('_', ',',n=1).str.replace('.', ',',n=1).str.split(',', expand=True)\n",
    "outputs_ = outputs_.drop(['w','k'],axis=1)\n",
    "outputs_ = outputs_.sort_values(['model','param_config','time'])[['threshold','metric','filename','model','param_config','time']]\n",
    "outputs_[['threshold','metric']] =outputs_[['threshold','metric']].astype('float64')\n",
    "outputs_[['param_config','time']] =outputs_[['param_config','time']].astype('int64')\n",
    "\n",
    "#outputs_.query(\"model == 'DecisionTreeClassifier'\").sample(10)"
   ]
  },
  {
   "cell_type": "code",
   "execution_count": null,
   "metadata": {},
   "outputs": [],
   "source": [
    "outputs_.to_csv('data/outputs_metrics.csv')#.drop()"
   ]
  },
  {
   "cell_type": "code",
   "execution_count": null,
   "metadata": {},
   "outputs": [],
   "source": []
  }
 ],
 "metadata": {
  "kernelspec": {
   "display_name": "Python 3",
   "language": "python",
   "name": "python3"
  },
  "language_info": {
   "codemirror_mode": {
    "name": "ipython",
    "version": 3
   },
   "file_extension": ".py",
   "mimetype": "text/x-python",
   "name": "python",
   "nbconvert_exporter": "python",
   "pygments_lexer": "ipython3",
   "version": "3.7.6"
  }
 },
 "nbformat": 4,
 "nbformat_minor": 4
}
