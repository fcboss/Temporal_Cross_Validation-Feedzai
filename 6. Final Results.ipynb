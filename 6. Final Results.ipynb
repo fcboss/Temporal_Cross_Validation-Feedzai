{
 "cells": [
  {
   "cell_type": "code",
   "execution_count": 79,
   "metadata": {},
   "outputs": [],
   "source": [
    "import pandas as pd\n",
    "import numpy as np\n",
    "from sklearn.metrics import precision_score, accuracy_score, recall_score"
   ]
  },
  {
   "cell_type": "code",
   "execution_count": 80,
   "metadata": {},
   "outputs": [],
   "source": [
    "import pickle \n",
    "filename = 'results_best_models.pkl'\n",
    "filehandler = open(filename, 'rb') \n",
    "results = pickle.load(filehandler)#.dump(results, filehandler)"
   ]
  },
  {
   "cell_type": "code",
   "execution_count": 81,
   "metadata": {},
   "outputs": [],
   "source": [
    "X_val = pd.read_csv('data/X_validation.csv').drop([\"Unnamed: 0\"],axis=1)\n",
    "y_val = pd.read_csv('data/y_validation.csv').drop([\"Unnamed: 0\"],axis=1)"
   ]
  },
  {
   "cell_type": "code",
   "execution_count": 82,
   "metadata": {},
   "outputs": [
    {
     "data": {
      "text/plain": [
       "['precision_score', 'accuracy_score', 'recall_score']"
      ]
     },
     "execution_count": 82,
     "metadata": {},
     "output_type": "execute_result"
    }
   ],
   "source": [
    "list(col_names)"
   ]
  },
  {
   "cell_type": "code",
   "execution_count": 132,
   "metadata": {},
   "outputs": [
    {
     "name": "stdout",
     "output_type": "stream",
     "text": [
      "[0.39129340714645194, 0.5645188663234711, 0.5209380234505863]\n",
      "[0.40326938665225615, 0.5812637891044861, 0.5]\n",
      "[0.3913945049248315, 0.567460541947163, 0.5058626465661642]\n",
      "[0.4179084619478446, 0.5924647847485432, 0.5261306532663317]\n",
      "[0.4179084619478446, 0.5924647847485432, 0.5261306532663317]\n",
      "[0.4179084619478446, 0.5924647847485432, 0.5261306532663317]\n",
      "[0.4521379666709727, 0.6203541324885444, 0.5862646566164154]\n",
      "[0.4322678843226788, 0.59682072749901, 0.6184254606365159]\n",
      "[0.4278233151183971, 0.5905413814561294, 0.6294807370184254]\n"
     ]
    },
    {
     "name": "stderr",
     "output_type": "stream",
     "text": [
      "[Parallel(n_jobs=4)]: Using backend ThreadingBackend with 4 concurrent workers.\n",
      "[Parallel(n_jobs=4)]: Done  42 tasks      | elapsed:    0.1s\n",
      "[Parallel(n_jobs=4)]: Done 192 tasks      | elapsed:    0.6s\n",
      "[Parallel(n_jobs=4)]: Done 442 tasks      | elapsed:    1.5s\n",
      "[Parallel(n_jobs=4)]: Done 792 tasks      | elapsed:    2.8s\n",
      "[Parallel(n_jobs=4)]: Done 1242 tasks      | elapsed:    4.4s\n",
      "[Parallel(n_jobs=4)]: Done 1792 tasks      | elapsed:    6.2s\n",
      "[Parallel(n_jobs=4)]: Done 1964 out of 1964 | elapsed:    6.8s finished\n",
      "[Parallel(n_jobs=4)]: Using backend ThreadingBackend with 4 concurrent workers.\n"
     ]
    },
    {
     "name": "stdout",
     "output_type": "stream",
     "text": [
      "[0.4353017102291062, 0.5942184759857442, 0.6778894472361809]\n"
     ]
    },
    {
     "name": "stderr",
     "output_type": "stream",
     "text": [
      "[Parallel(n_jobs=4)]: Done  42 tasks      | elapsed:    0.1s\n",
      "[Parallel(n_jobs=4)]: Done 192 tasks      | elapsed:    0.6s\n",
      "[Parallel(n_jobs=4)]: Done 442 tasks      | elapsed:    1.3s\n",
      "[Parallel(n_jobs=4)]: Done 792 tasks      | elapsed:    2.4s\n",
      "[Parallel(n_jobs=4)]: Done 959 out of 959 | elapsed:    2.8s finished\n",
      "[Parallel(n_jobs=4)]: Using backend ThreadingBackend with 4 concurrent workers.\n"
     ]
    },
    {
     "name": "stdout",
     "output_type": "stream",
     "text": [
      "[0.4390270625616303, 0.5993098376421339, 0.6711892797319933]\n"
     ]
    },
    {
     "name": "stderr",
     "output_type": "stream",
     "text": [
      "[Parallel(n_jobs=4)]: Done  42 tasks      | elapsed:    0.2s\n",
      "[Parallel(n_jobs=4)]: Done 192 tasks      | elapsed:    0.7s\n",
      "[Parallel(n_jobs=4)]: Done 442 tasks      | elapsed:    1.5s\n",
      "[Parallel(n_jobs=4)]: Done 792 tasks      | elapsed:    2.9s\n",
      "[Parallel(n_jobs=4)]: Done 1242 tasks      | elapsed:    4.4s\n",
      "[Parallel(n_jobs=4)]: Done 1792 tasks      | elapsed:    6.2s\n",
      "[Parallel(n_jobs=4)]: Done 1964 out of 1964 | elapsed:    6.8s finished\n"
     ]
    },
    {
     "name": "stdout",
     "output_type": "stream",
     "text": [
      "[0.43441481957383016, 0.5929739209141822, 0.6795644891122278]\n",
      "[0.5, 0.6622730101261526, 0.00033500837520938025]\n",
      "[0.375, 0.6620467273858687, 0.0010050251256281408]\n",
      "[0.33772698987384736, 0.33772698987384736, 1.0]\n",
      "[0.4400133674947087, 0.6013463823046897, 0.661641541038526]\n",
      "[0.4400133674947087, 0.6013463823046897, 0.661641541038526]\n",
      "[0.4400133674947087, 0.6013463823046897, 0.661641541038526]\n",
      "[0.44783681954008053, 0.6168467500141427, 0.5773869346733669]\n",
      "[0.44783681954008053, 0.6168467500141427, 0.5773869346733669]\n",
      "[0.44783681954008053, 0.6168467500141427, 0.5773869346733669]\n"
     ]
    }
   ],
   "source": [
    "rank_metrics= [precision_score, accuracy_score, recall_score]\n",
    "col_names = ['precision_score', 'accuracy_score', 'recall_score']\n",
    "rank_metrics_results_all = []\n",
    "for i,r in enumerate(results):\n",
    "    y_pred = r[4].predict_proba(X_val)[:,1]\n",
    "    threshold = r[2]\n",
    "    rank_metrics_results = []\n",
    "    for m in rank_metrics:\n",
    "        rank_metrics_results.append( m(y_val,y_pred>threshold))\n",
    "    print(rank_metrics_results)\n",
    "    rank_metrics_results_all.append(rank_metrics_results)\n",
    "    \n",
    "ranking_metrics_results = pd.DataFrame(data = rank_metrics_results_all,columns = col_names)\n"
   ]
  },
  {
   "cell_type": "code",
   "execution_count": 133,
   "metadata": {},
   "outputs": [],
   "source": [
    "models_str,metrics_str = np.array(results)[:,0],np.array(results)[:,1]\n",
    "ranking_metrics_results['model'],ranking_metrics_results['metric'] = models_str,metrics_str \n",
    "ranking_metrics_results = ranking_metrics_results\n",
    "ranking_metrics_results_final = pd.melt(ranking_metrics_results, id_vars=['model','metric'],value_vars=['precision_score','accuracy_score','recall_score'])\\\n",
    "    .pivot_table(index=['model','variable'],columns='metric',values='value',aggfunc=np.sum)\n",
    "\n",
    "#.set_index(['model','metric'])\n",
    "#ranking_metrics_results\n",
    "\n",
    "        "
   ]
  },
  {
   "cell_type": "code",
   "execution_count": 139,
   "metadata": {},
   "outputs": [
    {
     "data": {
      "text/html": [
       "<div>\n",
       "<style scoped>\n",
       "    .dataframe tbody tr th:only-of-type {\n",
       "        vertical-align: middle;\n",
       "    }\n",
       "\n",
       "    .dataframe tbody tr th {\n",
       "        vertical-align: top;\n",
       "    }\n",
       "\n",
       "    .dataframe thead th {\n",
       "        text-align: right;\n",
       "    }\n",
       "</style>\n",
       "<table border=\"1\" class=\"dataframe\">\n",
       "  <thead>\n",
       "    <tr style=\"text-align: right;\">\n",
       "      <th></th>\n",
       "      <th>metric</th>\n",
       "      <th>average_</th>\n",
       "      <th>ewm_</th>\n",
       "      <th>weighted_avg</th>\n",
       "    </tr>\n",
       "    <tr>\n",
       "      <th>model</th>\n",
       "      <th>variable</th>\n",
       "      <th></th>\n",
       "      <th></th>\n",
       "      <th></th>\n",
       "    </tr>\n",
       "  </thead>\n",
       "  <tbody>\n",
       "    <tr>\n",
       "      <th rowspan=\"3\" valign=\"top\">DecisionTreeClassifier</th>\n",
       "      <th>accuracy_score</th>\n",
       "      <td>0.564519</td>\n",
       "      <td>0.567461</td>\n",
       "      <td>0.581264</td>\n",
       "    </tr>\n",
       "    <tr>\n",
       "      <th>precision_score</th>\n",
       "      <td>0.391293</td>\n",
       "      <td>0.391395</td>\n",
       "      <td>0.403269</td>\n",
       "    </tr>\n",
       "    <tr>\n",
       "      <th>recall_score</th>\n",
       "      <td>0.520938</td>\n",
       "      <td>0.505863</td>\n",
       "      <td>0.500000</td>\n",
       "    </tr>\n",
       "    <tr>\n",
       "      <th rowspan=\"3\" valign=\"top\">LogisticRegression</th>\n",
       "      <th>accuracy_score</th>\n",
       "      <td>0.592465</td>\n",
       "      <td>0.592465</td>\n",
       "      <td>0.592465</td>\n",
       "    </tr>\n",
       "    <tr>\n",
       "      <th>precision_score</th>\n",
       "      <td>0.417908</td>\n",
       "      <td>0.417908</td>\n",
       "      <td>0.417908</td>\n",
       "    </tr>\n",
       "    <tr>\n",
       "      <th>recall_score</th>\n",
       "      <td>0.526131</td>\n",
       "      <td>0.526131</td>\n",
       "      <td>0.526131</td>\n",
       "    </tr>\n",
       "    <tr>\n",
       "      <th rowspan=\"3\" valign=\"top\">MLPClassifier</th>\n",
       "      <th>accuracy_score</th>\n",
       "      <td>0.620354</td>\n",
       "      <td>0.590541</td>\n",
       "      <td>0.596821</td>\n",
       "    </tr>\n",
       "    <tr>\n",
       "      <th>precision_score</th>\n",
       "      <td>0.452138</td>\n",
       "      <td>0.427823</td>\n",
       "      <td>0.432268</td>\n",
       "    </tr>\n",
       "    <tr>\n",
       "      <th>recall_score</th>\n",
       "      <td>0.586265</td>\n",
       "      <td>0.629481</td>\n",
       "      <td>0.618425</td>\n",
       "    </tr>\n",
       "    <tr>\n",
       "      <th rowspan=\"3\" valign=\"top\">RandomForestClassifier</th>\n",
       "      <th>accuracy_score</th>\n",
       "      <td>0.594218</td>\n",
       "      <td>0.592974</td>\n",
       "      <td>0.599310</td>\n",
       "    </tr>\n",
       "    <tr>\n",
       "      <th>precision_score</th>\n",
       "      <td>0.435302</td>\n",
       "      <td>0.434415</td>\n",
       "      <td>0.439027</td>\n",
       "    </tr>\n",
       "    <tr>\n",
       "      <th>recall_score</th>\n",
       "      <td>0.677889</td>\n",
       "      <td>0.679564</td>\n",
       "      <td>0.671189</td>\n",
       "    </tr>\n",
       "    <tr>\n",
       "      <th rowspan=\"3\" valign=\"top\">SVC</th>\n",
       "      <th>accuracy_score</th>\n",
       "      <td>0.662273</td>\n",
       "      <td>0.337727</td>\n",
       "      <td>0.662047</td>\n",
       "    </tr>\n",
       "    <tr>\n",
       "      <th>precision_score</th>\n",
       "      <td>0.500000</td>\n",
       "      <td>0.337727</td>\n",
       "      <td>0.375000</td>\n",
       "    </tr>\n",
       "    <tr>\n",
       "      <th>recall_score</th>\n",
       "      <td>0.000335</td>\n",
       "      <td>1.000000</td>\n",
       "      <td>0.001005</td>\n",
       "    </tr>\n",
       "    <tr>\n",
       "      <th rowspan=\"3\" valign=\"top\">XGBClassifier</th>\n",
       "      <th>accuracy_score</th>\n",
       "      <td>0.601346</td>\n",
       "      <td>0.601346</td>\n",
       "      <td>0.601346</td>\n",
       "    </tr>\n",
       "    <tr>\n",
       "      <th>precision_score</th>\n",
       "      <td>0.440013</td>\n",
       "      <td>0.440013</td>\n",
       "      <td>0.440013</td>\n",
       "    </tr>\n",
       "    <tr>\n",
       "      <th>recall_score</th>\n",
       "      <td>0.661642</td>\n",
       "      <td>0.661642</td>\n",
       "      <td>0.661642</td>\n",
       "    </tr>\n",
       "    <tr>\n",
       "      <th rowspan=\"3\" valign=\"top\">lgb_LGBMClassifier</th>\n",
       "      <th>accuracy_score</th>\n",
       "      <td>0.616847</td>\n",
       "      <td>0.616847</td>\n",
       "      <td>0.616847</td>\n",
       "    </tr>\n",
       "    <tr>\n",
       "      <th>precision_score</th>\n",
       "      <td>0.447837</td>\n",
       "      <td>0.447837</td>\n",
       "      <td>0.447837</td>\n",
       "    </tr>\n",
       "    <tr>\n",
       "      <th>recall_score</th>\n",
       "      <td>0.577387</td>\n",
       "      <td>0.577387</td>\n",
       "      <td>0.577387</td>\n",
       "    </tr>\n",
       "  </tbody>\n",
       "</table>\n",
       "</div>"
      ],
      "text/plain": [
       "metric                                  average_      ewm_  weighted_avg\n",
       "model                  variable                                         \n",
       "DecisionTreeClassifier accuracy_score   0.564519  0.567461      0.581264\n",
       "                       precision_score  0.391293  0.391395      0.403269\n",
       "                       recall_score     0.520938  0.505863      0.500000\n",
       "LogisticRegression     accuracy_score   0.592465  0.592465      0.592465\n",
       "                       precision_score  0.417908  0.417908      0.417908\n",
       "                       recall_score     0.526131  0.526131      0.526131\n",
       "MLPClassifier          accuracy_score   0.620354  0.590541      0.596821\n",
       "                       precision_score  0.452138  0.427823      0.432268\n",
       "                       recall_score     0.586265  0.629481      0.618425\n",
       "RandomForestClassifier accuracy_score   0.594218  0.592974      0.599310\n",
       "                       precision_score  0.435302  0.434415      0.439027\n",
       "                       recall_score     0.677889  0.679564      0.671189\n",
       "SVC                    accuracy_score   0.662273  0.337727      0.662047\n",
       "                       precision_score  0.500000  0.337727      0.375000\n",
       "                       recall_score     0.000335  1.000000      0.001005\n",
       "XGBClassifier          accuracy_score   0.601346  0.601346      0.601346\n",
       "                       precision_score  0.440013  0.440013      0.440013\n",
       "                       recall_score     0.661642  0.661642      0.661642\n",
       "lgb_LGBMClassifier     accuracy_score   0.616847  0.616847      0.616847\n",
       "                       precision_score  0.447837  0.447837      0.447837\n",
       "                       recall_score     0.577387  0.577387      0.577387"
      ]
     },
     "execution_count": 139,
     "metadata": {},
     "output_type": "execute_result"
    }
   ],
   "source": [
    "ranking_metrics_results_final#.sort_values('weighted_avg',ascending=False)"
   ]
  },
  {
   "cell_type": "code",
   "execution_count": null,
   "metadata": {},
   "outputs": [],
   "source": []
  }
 ],
 "metadata": {
  "kernelspec": {
   "display_name": "Python 3",
   "language": "python",
   "name": "python3"
  },
  "language_info": {
   "codemirror_mode": {
    "name": "ipython",
    "version": 3
   },
   "file_extension": ".py",
   "mimetype": "text/x-python",
   "name": "python",
   "nbconvert_exporter": "python",
   "pygments_lexer": "ipython3",
   "version": "3.7.6"
  }
 },
 "nbformat": 4,
 "nbformat_minor": 4
}
